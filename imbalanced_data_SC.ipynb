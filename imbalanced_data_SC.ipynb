{
  "cells": [
    {
      "cell_type": "markdown",
      "metadata": {
        "id": "view-in-github",
        "colab_type": "text"
      },
      "source": [
        "<a href=\"https://colab.research.google.com/github/ToshiroHJJZ/Machine_Learning_in_the_Cloud/blob/main/imbalanced_data_SC.ipynb\" target=\"_parent\"><img src=\"https://colab.research.google.com/assets/colab-badge.svg\" alt=\"Open In Colab\"/></a>"
      ]
    },
    {
      "cell_type": "markdown",
      "metadata": {
        "id": "6tYzR1mE-Ph6"
      },
      "source": [
        "# Imbalanced data\n",
        "\n",
        "Imbalanced data refers to a situation in classification problems where the classes are not represented equally in the dataset.\n",
        "\n",
        "One class (the majority class) has significantly more instances than one or more other classes (the minority class or classes).\n",
        "\n",
        "Imbalanced datasets are common in various real-world scenarios, such as fraud detection, medical diagnosis, anomaly detection, and text classification.\n",
        "\n",
        "### Problems with Imbalanced Datasets:\n",
        "\n",
        "* **Biased Model Performance**: Models trained on imbalanced data tend to be biased towards the majority class, as they tend to focus more on the majority class during training, resulting in poor generalization to the minority class.\n",
        "\n",
        "* **Misleading Evaluation Metrics**: Traditional evaluation metrics like **accuracy** can be misleading on imbalanced datasets. A model may achieve high accuracy by simply predicting the majority class most of the time, while completely ignoring the minority class."
      ]
    },
    {
      "cell_type": "markdown",
      "metadata": {
        "id": "-Ok4Jvzv-Ph9"
      },
      "source": [
        "### SKlearn toy datasets\n",
        "https://scikit-learn.org/stable/datasets/toy_dataset.html"
      ]
    },
    {
      "cell_type": "code",
      "execution_count": null,
      "metadata": {
        "id": "9RE33-db-Ph9"
      },
      "outputs": [],
      "source": [
        "from sklearn.datasets import load_iris\n",
        "import pandas as pd"
      ]
    },
    {
      "cell_type": "code",
      "source": [
        "# load iris data\n",
        "iris = load_iris()\n",
        "x= iris.data #feature\n",
        "y = iris.target #target"
      ],
      "metadata": {
        "id": "89lcKQsC-ZsE"
      },
      "execution_count": null,
      "outputs": []
    },
    {
      "cell_type": "code",
      "source": [
        "type(y)"
      ],
      "metadata": {
        "colab": {
          "base_uri": "https://localhost:8080/"
        },
        "id": "M3vQrWOB--nt",
        "outputId": "51e6d550-b4d0-438e-f998-66a749a13dd8"
      },
      "execution_count": null,
      "outputs": [
        {
          "output_type": "execute_result",
          "data": {
            "text/plain": [
              "numpy.ndarray"
            ]
          },
          "metadata": {},
          "execution_count": 10
        }
      ]
    },
    {
      "cell_type": "code",
      "source": [
        "#check the class distribution\n",
        "print(pd.Series(y).value_counts())"
      ],
      "metadata": {
        "colab": {
          "base_uri": "https://localhost:8080/"
        },
        "id": "ArLNXYq4-37p",
        "outputId": "adeeb692-75c7-4ebd-d027-b9adb7010af6"
      },
      "execution_count": null,
      "outputs": [
        {
          "output_type": "stream",
          "name": "stdout",
          "text": [
            "0    50\n",
            "1    50\n",
            "2    50\n",
            "Name: count, dtype: int64\n"
          ]
        }
      ]
    },
    {
      "cell_type": "markdown",
      "metadata": {
        "id": "4KyfIlui-Ph-"
      },
      "source": [
        "## Solutions to Imbalanced Data Problems:\n",
        "\n",
        "### **1. Resampling Techniques**:"
      ]
    },
    {
      "cell_type": "markdown",
      "metadata": {
        "id": "qHH0_wIn-Ph-"
      },
      "source": [
        "## 1.1 Under-Sampling\n",
        "\n",
        "Reduce the number of instances in the majority class by randomly removing instances."
      ]
    },
    {
      "cell_type": "code",
      "execution_count": null,
      "metadata": {
        "colab": {
          "base_uri": "https://localhost:8080/"
        },
        "id": "3C9B5qn_-Ph-",
        "outputId": "0c70ea37-e7ad-4ca7-bbf7-cc633e7fccc5"
      },
      "outputs": [
        {
          "output_type": "stream",
          "name": "stdout",
          "text": [
            "1    357\n",
            "0    212\n",
            "Name: count, dtype: int64\n"
          ]
        }
      ],
      "source": [
        "from sklearn.datasets import load_breast_cancer\n",
        "from imblearn.under_sampling import RandomUnderSampler\n",
        "import pandas as pd\n",
        "breast_cancer = load_breast_cancer()\n",
        "x= breast_cancer.data #feature\n",
        "y = breast_cancer.target #target\n",
        "print(pd.Series(y).value_counts())"
      ]
    },
    {
      "cell_type": "code",
      "execution_count": null,
      "metadata": {
        "colab": {
          "base_uri": "https://localhost:8080/"
        },
        "id": "-hAJEnd4-Ph_",
        "outputId": "72d73c99-870a-45cd-8d44-c38147c7856d"
      },
      "outputs": [
        {
          "output_type": "stream",
          "name": "stdout",
          "text": [
            "0    212\n",
            "1    212\n",
            "Name: count, dtype: int64\n"
          ]
        }
      ],
      "source": [
        "rus= RandomUnderSampler(random_state=42)\n",
        "x_res, y_res = rus.fit_resample(x,y) # x_res (resampled)\n",
        "print(pd.Series(y_res).value_counts()) # it is not a good idea to just remove entries"
      ]
    },
    {
      "cell_type": "markdown",
      "metadata": {
        "id": "M1UExpzd-Ph_"
      },
      "source": [
        "**Advantages**:\n",
        "* Reduces computation time and memory usage.\n",
        "* Helps balance class distribution, potentially improving model performance.\n",
        "\n",
        "**Disadvantages**:\n",
        "* May discard potentially useful information from majority class.\n",
        "* Risk of underfitting if important samples are removed."
      ]
    },
    {
      "cell_type": "markdown",
      "metadata": {
        "id": "Kgq5SaLA-Ph_"
      },
      "source": [
        "## 1.2. Over-Sampling\n",
        "\n",
        "Increase the number of instances in the minority class by duplicating existing instances or generating synthetic samples."
      ]
    },
    {
      "cell_type": "code",
      "execution_count": null,
      "metadata": {
        "colab": {
          "base_uri": "https://localhost:8080/"
        },
        "id": "FbT5PDHH-Ph_",
        "outputId": "ab5fbf73-e63c-41b6-fb44-227fb5d421f0"
      },
      "outputs": [
        {
          "output_type": "stream",
          "name": "stdout",
          "text": [
            "0    357\n",
            "1    357\n",
            "Name: count, dtype: int64\n"
          ]
        }
      ],
      "source": [
        "from imblearn.over_sampling import RandomOverSampler\n",
        "ros= RandomOverSampler(random_state=42)\n",
        "x_res, y_res = ros.fit_resample(x,y)\n",
        "print(pd.Series(y_res).value_counts())"
      ]
    },
    {
      "cell_type": "markdown",
      "metadata": {
        "id": "K9pdvP6i-Ph_"
      },
      "source": [
        "**Advantages**:\n",
        "* Increases representation of minority class, preventing bias towards majority class.\n",
        "* Can improve model performance.\n",
        "\n",
        "**Disadvantages**:\n",
        "* May lead to overfitting if synthetic samples are not well-generated.\n",
        "* Can increase computation time and memory usage."
      ]
    },
    {
      "cell_type": "markdown",
      "metadata": {
        "id": "uzYbQJpz-PiA"
      },
      "source": [
        "## 1.3. Synthetic Over-Sampling Technique: SMOTE\n",
        "\n",
        "Generate synthetic samples for the minority class by interpolating between existing instances."
      ]
    },
    {
      "cell_type": "markdown",
      "metadata": {
        "id": "x9JfYTVI-PiA"
      },
      "source": [
        "### Step-by-Step Process of SMOTE:\n",
        "#### Identify Minority Class Samples:\n",
        "\n",
        "SMOTE first identifies the minority class samples from the dataset. Let's assume we have a binary classification problem where the majority class has far more instances than the minority class.\n",
        "Find k Nearest Neighbors:\n",
        "\n",
        "- For each minority class sample, SMOTE finds its k-nearest neighbors in the feature space using techniques like Euclidean distance. Typically, k is set to 5 by default, though it can be adjusted.\n",
        "- These neighboring points are other minority class examples that are \"close\" to the original point in the feature space.\n",
        "Generate Synthetic Samples:\n",
        "\n",
        "SMOTE then selects one of the k-nearest neighbors at random and creates a new synthetic sample."
      ]
    },
    {
      "cell_type": "code",
      "execution_count": null,
      "metadata": {
        "colab": {
          "base_uri": "https://localhost:8080/"
        },
        "id": "eikkMC6d-PiA",
        "outputId": "cac52ffd-76f7-4f50-a59d-2a7c7b182faf"
      },
      "outputs": [
        {
          "output_type": "stream",
          "name": "stdout",
          "text": [
            "0    357\n",
            "1    357\n",
            "Name: count, dtype: int64\n"
          ]
        }
      ],
      "source": [
        "from imblearn.over_sampling import SMOTE\n",
        "smote = SMOTE(random_state=42)\n",
        "x_res, y_res = smote.fit_resample(x,y)\n",
        "print(pd.Series(y_res).value_counts())"
      ]
    },
    {
      "cell_type": "markdown",
      "metadata": {
        "id": "i0N-fPaH-PiA"
      },
      "source": [
        "**Advantages**:\n",
        "* Generates synthetic samples, preserving minority class distribution.\n",
        "* Addresses imbalanced data without discarding information.\n",
        "\n",
        "**Disadvantages**:\n",
        "* Can introduce noise if synthetic samples are poorly generated.\n",
        "* May not work well with high-dimensional data.\n",
        "* Sensitive towards outliers."
      ]
    },
    {
      "cell_type": "markdown",
      "metadata": {
        "id": "ba8AkVjI-PiA"
      },
      "source": [
        "**Model Selection:**\n",
        "\n",
        "Choose models that are robust to class imbalance, such as linear regression, logistic regression, decision trees, random forests, support vector machines with appropriate kernels, or anomaly detection algorithms."
      ]
    },
    {
      "cell_type": "markdown",
      "metadata": {
        "id": "6J1zEeMz-PiB"
      },
      "source": [
        "## 2. Data-Level Techniques:\n",
        "\n",
        "* **Collect More Data:** Gather additional data for the minority class to balance the dataset.\n",
        "* **Domain Knowledge:** Incorporate domain knowledge to better understand the importance of different classes and guide the selection of appropriate techniques for handling imbalance.\n"
      ]
    },
    {
      "cell_type": "code",
      "execution_count": null,
      "metadata": {
        "id": "uiAX8PC0-PiB"
      },
      "outputs": [],
      "source": []
    }
  ],
  "metadata": {
    "kaggle": {
      "accelerator": "none",
      "dataSources": [],
      "dockerImageVersionId": 30698,
      "isGpuEnabled": false,
      "isInternetEnabled": false,
      "language": "python",
      "sourceType": "notebook"
    },
    "kernelspec": {
      "display_name": "Python 3 (ipykernel)",
      "language": "python",
      "name": "python3"
    },
    "language_info": {
      "codemirror_mode": {
        "name": "ipython",
        "version": 3
      },
      "file_extension": ".py",
      "mimetype": "text/x-python",
      "name": "python",
      "nbconvert_exporter": "python",
      "pygments_lexer": "ipython3",
      "version": "3.12.4"
    },
    "colab": {
      "provenance": [],
      "include_colab_link": true
    }
  },
  "nbformat": 4,
  "nbformat_minor": 0
}